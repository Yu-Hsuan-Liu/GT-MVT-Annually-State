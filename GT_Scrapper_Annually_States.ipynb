{
 "cells": [
  {
   "cell_type": "code",
   "execution_count": 14,
   "id": "9b46170d",
   "metadata": {},
   "outputs": [],
   "source": [
    "import time\n",
    "from datetime import datetime, timedelta\n",
    "from dateutil.relativedelta import *\n",
    "import pandas as pd\n",
    "import os\n",
    "import csv\n",
    "from scipy.stats import pearsonr\n",
    "import numpy as np\n",
    "import re\n",
    "import pytrends\n",
    "import bash\n",
    "import random\n",
    "import pdb\n",
    "import calendar\n",
    "import requests\n",
    "from requests.exceptions import Timeout\n",
    "from pytrends.exceptions import ResponseError\n",
    "from torpy.circuit import  CellTimeoutError"
   ]
  },
  {
   "cell_type": "code",
   "execution_count": 15,
   "id": "21a1afcb",
   "metadata": {},
   "outputs": [
    {
     "name": "stderr",
     "output_type": "stream",
     "text": [
      "C:\\Users\\tosea\\AppData\\Local\\Temp\\ipykernel_25892\\1955608679.py:7: DeprecationWarning: executable_path has been deprecated, please pass in a Service object\n",
      "  driver = webdriver.Edge(options = options, executable_path=edge_driver_path)\n"
     ]
    }
   ],
   "source": [
    "def get_cookie():\n",
    "    from selenium import webdriver\n",
    "    options = webdriver.EdgeOptions()\n",
    "    edge_driver_path = r'msedgedriver.exe'\n",
    "\n",
    "# Create a WebDriver instance for Microsoft Edge\n",
    "    driver = webdriver.Edge(options = options, executable_path=edge_driver_path)   \n",
    "    driver.get(\"https://trends.google.com/\")\n",
    "    time.sleep(5)\n",
    "    cookie = driver.get_cookie(\"NID\")[\"value\"]\n",
    "    driver.quit()\n",
    "    return cookie\n",
    "\n",
    "nid_cookie = f\"NID={get_cookie()}\"\n"
   ]
  },
  {
   "cell_type": "code",
   "execution_count": 16,
   "id": "f5a667db",
   "metadata": {},
   "outputs": [],
   "source": [
    "from pytrends.request import TrendReq\n",
    "\n",
    "requests_args = {\n",
    "    'headers' : {\n",
    "        \"Cookie\": f\"{nid_cookie}\",\n",
    "    }\n",
    "}\n",
    " \n",
    "\n"
   ]
  },
  {
   "cell_type": "code",
   "execution_count": 17,
   "id": "26b226d2",
   "metadata": {},
   "outputs": [],
   "source": [
    "def init():\n",
    "    from torpy import TorClient\n",
    "\n",
    "    hostname = 'ifconfig.me'  # It's possible use onion hostname here as well\n",
    "    with TorClient() as tor:\n",
    "        # Choose random guard node and create 3-hops circuit\n",
    "        with tor.create_circuit(3) as circuit:\n",
    "            # Create tor stream to host\n",
    "            with circuit.create_stream((hostname, 80)) as stream:\n",
    "                # Now we can communicate with host\n",
    "                stream.send(b'GET / HTTP/1.0\\r\\nHost: %s\\r\\n\\r\\n' % hostname.encode())\n",
    "                recv = stream.recv(1024)\n",
    "    return 0"
   ]
  },
  {
   "cell_type": "code",
   "execution_count": 18,
   "id": "eecf1545",
   "metadata": {},
   "outputs": [],
   "source": [
    "def column_name_to_mvt_and_remove_zero_values(df, year):\n",
    "    df.rename(columns={df.columns[0]: f\"MVT_GT_{year}\" }, inplace = True)\n",
    "    df = df[df[f\"MVT_GT_{year}\"] != 0]\n",
    "    return df"
   ]
  },
  {
   "cell_type": "code",
   "execution_count": 19,
   "id": "a432a8ba",
   "metadata": {},
   "outputs": [],
   "source": [
    "def gt_by_region_by_year(mvt_keyword, start_year, end_year, geo_level):\n",
    "    df = pd.DataFrame()\n",
    "    for i in range(start_year, end_year+1):\n",
    "            try:\n",
    "                pytrend.build_payload(mvt_keyword, cat=0, timeframe=f\"{i}-01-01 {i}-12-31\", geo = \"US\")\n",
    "                temp_df = pytrend.interest_by_region(resolution=geo_level, inc_low_vol=True, inc_geo_code=False)\n",
    "                print(f\"Obtaining GT MVT from {i}-01-01 to {i}-12-31 in {geo_level}\")\n",
    "                \n",
    "            except (ResponseError, Timeout, ConnectionAbortedError, ConnectionError) as error:\n",
    "                try:\n",
    "                    print(f\"GT Error Occured: {error}\")\n",
    "                    !pip install pytrends --upgrade\n",
    "                    #init()\n",
    "                    #rint(f\"Let's Go, Onion!\")\n",
    "                    pytrend.build_payload(mvt_keyword, cat=0, timeframe=f\"{i}-01-01 {i}-12-31\", geo = \"US\")\n",
    "                    temp_df = pytrend.interest_by_region(resolution=geo_level, inc_low_vol=True, inc_geo_code=False)\n",
    "                    print(f\"Obtaining GT MVT from {i}-01-01 to {i}-12-31 in {geo_level}\")\n",
    "\n",
    "                except (ResponseError, Timeout, ConnectionAbortedError, ConnectionError) as error:\n",
    "                    print(f\"GT Error Occured: {error}\")\n",
    "                    print(f\"Let me sleep for 1 day, till {(datetime.now() + timedelta(days=1)).strftime('%m/%d/%Y, %H:%M:%S')}\")\n",
    "                    print(\"ZZzzzz...\")\n",
    "                    time.sleep(random.randint(60*60*24, 60*60*24+30,))\n",
    "                    print(\"Was a nice sleep, now let me continue...\")\n",
    "\n",
    "                    pytrend.build_payload(mvt_keyword, cat=0, timeframe=f\"{i}-01-01 {i}-12-31\", geo = \"US\")\n",
    "                    temp_df = pytrend.interest_by_region(resolution=geo_level, inc_low_vol=True, inc_geo_code=False)\n",
    "                    print(f\"Obtaining GT MVT from {i}-01-01 to {i}-12-31 in {geo_level}\")\n",
    "                \n",
    "            temp_df = column_name_to_mvt_and_remove_zero_values(temp_df, i)\n",
    "            df = pd.concat([df, temp_df.iloc[:, 0]], axis = 1)\n",
    "            time.sleep(random.randint(600, 660))\n",
    "    return df"
   ]
  },
  {
   "cell_type": "code",
   "execution_count": 20,
   "id": "a5a6a136",
   "metadata": {},
   "outputs": [],
   "source": [
    "def execute_init():\n",
    "    while True:\n",
    "        try:\n",
    "            init()\n",
    "            print(\"init status completed\")\n",
    "            break\n",
    "        except (TimeoutError, CellTimeoutError, ConnectionResetError) as error:\n",
    "            print(f\"Init Error Occured: {error}\")\n",
    "            print(\"Let me sleep for 10 seconds\")\n",
    "            print(\"ZZzzzz...\")\n",
    "            time.sleep(10)\n",
    "            print(\"Was a nice sleep, now let me continue...\")\n",
    "            pass\n",
    "    return 0"
   ]
  },
  {
   "cell_type": "code",
   "execution_count": 21,
   "id": "bd4bb7b0",
   "metadata": {},
   "outputs": [],
   "source": [
    "def GT_temp_df(start_date, end_date, geo_code, geo_name):\n",
    "    temp_df = pd.DataFrame()\n",
    "    while len(temp_df) == 0:\n",
    "        try:\n",
    "            pytrend.build_payload(mvt_keyword, cat=0, timeframe=f\"{start_date} {end_date}\", geo = \"US\")\n",
    "            temp_df = pytrend.interest_by_region(resolution='REGION', inc_low_vol=True, inc_geo_code=False)\n",
    "\n",
    "        except (ResponseError, Timeout, ConnectionAbortedError, ConnectionError) as error:\n",
    "            try:\n",
    "                print(f\"GT Error Occured: {error}\")\n",
    "                !pip install pytrends --upgrade\n",
    "                #init()\n",
    "                #rint(f\"Let's Go, Onion!\")\n",
    "                pytrend.build_payload(mvt_keyword, cat=0, timeframe=f\"{start_date} {end_date}\", geo = \"US\")\n",
    "                temp_df = pytrend.interest_by_region(resolution='REGION', inc_low_vol=True, inc_geo_code=False)\n",
    "\n",
    "            except (ResponseError, Timeout, ConnectionAbortedError, ConnectionError) as error:\n",
    "                print(f\"GT Error Occured: {error}\")\n",
    "                print(f\"Let me sleep for 1 day, till {(datetime.now() + timedelta(days=1)).strftime('%m/%d/%Y, %H:%M:%S')}\")\n",
    "                print(\"ZZzzzz...\")\n",
    "                time.sleep(random.randint(60*60*24, 60*60*24+30,))\n",
    "                print(\"Was a nice sleep, now let me continue...\")\n",
    "\n",
    "\n",
    "    print(f\"Obtaining GT MVT from {start_date} to {end_date} in {geo_name} metro area\")\n",
    "    time.sleep(random.randint(600, 660))\n",
    "    temp_df = column_name_to_mvt_and_remove_zero_values(temp_df, geo_name)\n",
    "    return temp_df"
   ]
  },
  {
   "cell_type": "code",
   "execution_count": 22,
   "id": "7575af2b",
   "metadata": {},
   "outputs": [],
   "source": [
    "def combine_df_and_temp_df_and_rescale_by_overlap_factors(df, temp_df):\n",
    "    df = pd.concat([df, temp_df.iloc[:, 0]], axis = 1)\n",
    "    if len(df.columns) > 1:\n",
    "        factor_data = df.dropna(how = \"any\")\n",
    "        factor_divided = factor_data.iloc[:, 0]/factor_data.iloc[:, 1]\n",
    "        adjusted_factor = factor_divided.mean()\n",
    "        df.iloc[:,1] = df.iloc[:,1]*adjusted_factor\n",
    "        df = df.mean(axis = 1)\n",
    "    return df"
   ]
  },
  {
   "cell_type": "code",
   "execution_count": 23,
   "id": "66539e2c",
   "metadata": {},
   "outputs": [
    {
     "data": {
      "text/plain": [
       "0"
      ]
     },
     "execution_count": 23,
     "metadata": {},
     "output_type": "execute_result"
    }
   ],
   "source": [
    "init()"
   ]
  },
  {
   "cell_type": "code",
   "execution_count": 24,
   "id": "0f3e3a90",
   "metadata": {},
   "outputs": [],
   "source": [
    "#basic pytrend settings\n",
    "pytrend = TrendReq(retries=3, requests_args = requests_args)"
   ]
  },
  {
   "cell_type": "code",
   "execution_count": 25,
   "id": "7e8795a5",
   "metadata": {
    "scrolled": true
   },
   "outputs": [
    {
     "data": {
      "text/plain": [
       "'\\nkw_list = [\"car stolen+find stolen car+report police stolen car+insurance car stolen-dream-check\",\\n    \"I raped+raped me+raped report police+being raped+been raped - dream - kobe - trump - porn\",\\n    \"my stolen+find my stolen+theft report police+someone stolen my - car - heart - dream - number\",\\n    \"burglary+home burglarized+my house broken into+my home broken into+burglary report police - dream\",\\n    \"my committed a crime+police arrested my+my arrested+my in jail+my in prison - arrested development\",\\n    \"I hate family+parents hate me+I hate my parents+I hate school+I hate teacher+I hate dad+I hate mom\"]\\n'"
      ]
     },
     "execution_count": 25,
     "metadata": {},
     "output_type": "execute_result"
    }
   ],
   "source": [
    "'''\n",
    "kw_list = [\"car stolen+find stolen car+report police stolen car+insurance car stolen-dream-check\",\n",
    "    \"I raped+raped me+raped report police+being raped+been raped - dream - kobe - trump - porn\",\n",
    "    \"my stolen+find my stolen+theft report police+someone stolen my - car - heart - dream - number\",\n",
    "    \"burglary+home burglarized+my house broken into+my home broken into+burglary report police - dream\",\n",
    "    \"my committed a crime+police arrested my+my arrested+my in jail+my in prison - arrested development\",\n",
    "    \"I hate family+parents hate me+I hate my parents+I hate school+I hate teacher+I hate dad+I hate mom\"]\n",
    "'''\n",
    "#years = [i for i in range(2010, 2016)]\n",
    "#print(years)\n",
    "#months = [i for i in range(1, 13, 3)] \n",
    "#print(months)"
   ]
  },
  {
   "cell_type": "markdown",
   "id": "30921c43",
   "metadata": {},
   "source": [
    "### GT Keywords (Test)"
   ]
  },
  {
   "cell_type": "code",
   "execution_count": 26,
   "id": "2105a9d7",
   "metadata": {},
   "outputs": [],
   "source": [
    "mvt_keyword = [\"car stolen+find stolen car+report police stolen car+insurance car stolen-dream-check\"] "
   ]
  },
  {
   "cell_type": "code",
   "execution_count": 27,
   "id": "753dfe1f",
   "metadata": {},
   "outputs": [],
   "source": [
    "#gt_by_region_by_year(mvt_keyword, 2011, 2014, \"REGION\")"
   ]
  },
  {
   "cell_type": "code",
   "execution_count": 28,
   "id": "720ed6be",
   "metadata": {},
   "outputs": [],
   "source": [
    "#reversed_dict = {value: key for key, value in region_code_dict.items()}"
   ]
  },
  {
   "cell_type": "markdown",
   "id": "165194c8",
   "metadata": {},
   "source": [
    "### Dates (From, To)"
   ]
  },
  {
   "cell_type": "code",
   "execution_count": 29,
   "id": "5a40f85c",
   "metadata": {},
   "outputs": [],
   "source": [
    "start_year = 2011\n",
    "end_year = 2022\n",
    "geo_level = \"REGION\""
   ]
  },
  {
   "cell_type": "markdown",
   "id": "a6f40044",
   "metadata": {},
   "source": [
    "## Execute Pytrends to Pull Annually Data from Google Trends"
   ]
  },
  {
   "cell_type": "code",
   "execution_count": null,
   "id": "48a26924",
   "metadata": {
    "scrolled": false
   },
   "outputs": [
    {
     "name": "stdout",
     "output_type": "stream",
     "text": [
      "Obtaining GT MVT from 2011-01-01 to 2011-12-31 in REGION\n",
      "Obtaining GT MVT from 2012-01-01 to 2012-12-31 in REGION\n",
      "Obtaining GT MVT from 2013-01-01 to 2013-12-31 in REGION\n",
      "Obtaining GT MVT from 2014-01-01 to 2014-12-31 in REGION\n",
      "Obtaining GT MVT from 2015-01-01 to 2015-12-31 in REGION\n",
      "Obtaining GT MVT from 2016-01-01 to 2016-12-31 in REGION\n",
      "Obtaining GT MVT from 2017-01-01 to 2017-12-31 in REGION\n",
      "Obtaining GT MVT from 2018-01-01 to 2018-12-31 in REGION\n",
      "Obtaining GT MVT from 2019-01-01 to 2019-12-31 in REGION\n",
      "Obtaining GT MVT from 2020-01-01 to 2020-12-31 in REGION\n",
      "Obtaining GT MVT from 2021-01-01 to 2021-12-31 in REGION\n",
      "Obtaining GT MVT from 2022-01-01 to 2022-12-31 in REGION\n",
      "REGION_2011_2022_annually_20240217_12_36 file saved\n"
     ]
    }
   ],
   "source": [
    "\n",
    "#Get 100 times weekly GT MVT data per city\n",
    "for times in range(97):\n",
    "    df = gt_by_region_by_year(mvt_keyword, start_year, end_year, geo_level)\n",
    "    df.to_csv(f\"{geo_level}_{start_year}_{end_year}_annually_{pd.Timestamp.now().strftime('%Y%m%d_%H_%M')}.csv\")\n",
    "    print(f\"{geo_level}_{start_year}_{end_year}_annually_{pd.Timestamp.now().strftime('%Y%m%d_%H_%M')} file saved\")\n",
    "    time.sleep(random.randint(10200, 10600))"
   ]
  },
  {
   "cell_type": "code",
   "execution_count": null,
   "id": "015e589e",
   "metadata": {},
   "outputs": [],
   "source": [
    "test.plot(figsize=(20, 12),  kind ='line')"
   ]
  },
  {
   "cell_type": "code",
   "execution_count": null,
   "id": "edc81da1",
   "metadata": {},
   "outputs": [],
   "source": [
    "[print(i/25*23) for i in test2[\"car stolen+find stolen car+report police stolen car+insurance car stolen-dream-check\"]]"
   ]
  },
  {
   "cell_type": "code",
   "execution_count": null,
   "id": "ffdf2371",
   "metadata": {},
   "outputs": [],
   "source": [
    "kw_list=['Facebook', 'Apple', 'Amazon', 'Netflix', 'Google']\n",
    "pytrend = TrendReq()\n",
    "#search interest per region\n",
    "#run model for keywords (can also be competitors)\n",
    "pytrend.build_payload(kw_list, timeframe='today 1-m')\n",
    "\n",
    "# Interest by Region\n",
    "regiondf = pytrend.interest_by_region()\n",
    "#looking at rows where all values are not equal to 0\n",
    "regiondf = regiondf[(regiondf != 0).all(1)]\n",
    "\n",
    "#drop all rows that have null values in all columns\n",
    "regiondf.dropna(how='all',axis=0, inplace=True)\n",
    "\n",
    "#visualise\n",
    "regiondf.plot(figsize=(20, 12), y=kw_list, kind ='bar')"
   ]
  },
  {
   "cell_type": "code",
   "execution_count": null,
   "id": "ecad1d3c",
   "metadata": {},
   "outputs": [],
   "source": [
    "historicaldf = pytrend.get_historical_interest(['Facebook', 'Apple', 'Amazon', 'Netflix', 'Google'], \n",
    "                                               year_start=2020, month_start=1, day_start=1, hour_start=0, \n",
    "                                               year_end=2020, month_end=12, day_end=31, hour_end=0, \n",
    "                                               cat=0, geo='en-US', gprop='', sleep=0)\n",
    "\n",
    "#visualise\n",
    "#plot a timeseries chart\n",
    "historicaldf.plot(figsize=(20, 12))\n",
    "\n",
    "#plot seperate graphs, using theprovided keywords\n",
    "historicaldf.plot(subplots=True, figsize=(20, 12))"
   ]
  },
  {
   "cell_type": "code",
   "execution_count": null,
   "id": "dfd89f89",
   "metadata": {},
   "outputs": [],
   "source": [
    "def gt_func(start_date_list, end_date_list, resolution, sample_size, path):\n",
    "#get monthly GT data\n",
    "    import inflect\n",
    "    #give ordinal names to numbers\n",
    "    p = inflect.engine()\n",
    "\n",
    "    for t in range(sample_size): #sample from GT 100 times\n",
    "        #time.sleep(random.randint(21600,21668)) # 6 hrs\n",
    "        print(f\"The {p.ordinal(t+1)} pull from GT\")\n",
    "        qt_list = [\"Q1\",\"Q2\",\"Q3\",\"Q4\"]\n",
    "        count = 0\n",
    "        for i, j in zip(start_date_list, end_date_list):\n",
    "            df = pd.DataFrame()\n",
    "            #Q1 - Q4\n",
    "            if count == 4:\n",
    "                count = 0\n",
    "            for k in kw_list:\n",
    "                #q = the name of the quarter\n",
    "                q = qt_list[count]\n",
    "                try:\n",
    "                    pytrend.build_payload(k, cat=0, timeframe=f'{i.strftime(\"%Y-%m-%d\")} {j.strftime(\"%Y-%m-%d\")}',  geo='US', gprop='')\n",
    "                    df = pd.concat([df, pytrend.interest_by_region(resolution=\"DMA\", inc_low_vol = False, inc_geo_code = False)], axis = 1)\n",
    "                    time.sleep(random.randint(120, 130))\n",
    "\n",
    "                except (Timeout, ResponseError) as e:\n",
    "                        print(f'!!{i.strftime(\"%Y-%m-%d\")} {j.strftime(\"%Y-%m-%d\")}!! ReadTimeoutError')\n",
    "                        print(f\"Whoops! ReadTimeoutError, the {p.ordinal(t+1)} pull aborted, now we take a rest\")\n",
    "                        print(dt.datetime.now().strftime(\"%Y/%m/%d_%H:%M:%S\"))\n",
    "                        time.sleep(random.randint(86668, 86888)) # 24 hrs\n",
    "                        print(f\"Rest enough, now we continue!\")\n",
    "\n",
    "                        #continue working\n",
    "                        pytrend.build_payload(k, cat=0, timeframe=f'{i.strftime(\"%Y-%m-%d\")} {j.strftime(\"%Y-%m-%d\")}',  geo='US', gprop='')\n",
    "                        df = pd.concat([df, pytrend.interest_by_region(resolution=\"DMA\", inc_low_vol=False, inc_geo_code=False)], axis = 1)\n",
    "                        time.sleep(random.randint(120, 130))\n",
    "\n",
    "            df.columns = [f\"MVT_{i.strftime('%Y')}_{q}\", \n",
    "                          f\"rape_{i.strftime('%Y')}_{q}\", \n",
    "                          f\"larceny_{i.strftime('%Y')}_{q}\", \n",
    "                          f\"burglary_{i.strftime('%Y')}_{q}\", \n",
    "                          f\"known_deliq_{i.strftime('%Y')}_{q}\", \n",
    "                          f\"low_social_cont_{i.strftime('%Y')}_{q}\"]\n",
    "            df.to_csv(f'{path}gt_crime_{i.strftime(\"%Y\")}_{q}_{dt.datetime.now().strftime(\"%Y%m%d_%H-%M-%S\")}.csv')\n",
    "            count += 1\n",
    "        print(f\"The {p.ordinal(t+1)} pull from GT Done!!\")\n",
    "        print(f'Time finished: {dt.datetime.now().strftime(\"%Y/%m/%d, %H:%M\")}')\n",
    "        time.sleep(random.randint(10800,10868)) # 3 hrs\n",
    "\n",
    "\n",
    "    print(f\"Congratulations, Well Done!\")"
   ]
  }
 ],
 "metadata": {
  "kernelspec": {
   "display_name": "Python 3 (ipykernel)",
   "language": "python",
   "name": "python3"
  },
  "language_info": {
   "codemirror_mode": {
    "name": "ipython",
    "version": 3
   },
   "file_extension": ".py",
   "mimetype": "text/x-python",
   "name": "python",
   "nbconvert_exporter": "python",
   "pygments_lexer": "ipython3",
   "version": "3.9.12"
  }
 },
 "nbformat": 4,
 "nbformat_minor": 5
}
